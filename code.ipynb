{
  "nbformat": 4,
  "nbformat_minor": 0,
  "metadata": {
    "colab": {
      "provenance": []
    },
    "kernelspec": {
      "name": "python3",
      "display_name": "Python 3"
    },
    "language_info": {
      "name": "python"
    }
  },
  "cells": [
    {
      "cell_type": "markdown",
      "source": [
        "# Boston Marathon Performance Analysis\n",
        "\n",
        "This notebook help us to analysis a marathon using boston marathon dataset"
      ],
      "metadata": {
        "id": "ih03Gj3XgI22"
      }
    },
    {
      "cell_type": "markdown",
      "source": [
        "# Import Libraries and Setup"
      ],
      "metadata": {
        "id": "a8atoKfOqjMJ"
      }
    },
    {
      "cell_type": "code",
      "execution_count": 2,
      "metadata": {
        "id": "GiQeQLdCfUuL"
      },
      "outputs": [],
      "source": [
        "import pandas as pd\n",
        "import numpy as np\n",
        "import matplotlib.pyplot as plt\n",
        "import seaborn as sns\n",
        "import warnings\n",
        "from sklearn.model_selection import train_test_split, cross_val_score, RandomizedSearchCV, StratifiedKFold\n",
        "from sklearn.preprocessing import StandardScaler, MinMaxScaler, RobustScaler, PowerTransformer, QuantileTransformer, LabelEncoder, PolynomialFeatures\n",
        "from sklearn.linear_model import LinearRegression, Ridge, Lasso, ElasticNet\n",
        "from sklearn.tree import DecisionTreeRegressor\n",
        "from sklearn.ensemble import RandomForestRegressor, GradientBoostingRegressor, AdaBoostRegressor, VotingRegressor, StackingRegressor\n",
        "from sklearn.svm import SVR\n",
        "from sklearn.neighbors import KNeighborsRegressor\n",
        "from sklearn.neural_network import MLPRegressor\n",
        "from sklearn.metrics import mean_squared_error, r2_score, mean_absolute_error, mean_absolute_percentage_error\n",
        "from sklearn.inspection import permutation_importance\n",
        "from scipy import stats\n",
        "from scipy.stats import jarque_bera, shapiro, normaltest\n",
        "from statsmodels.stats.diagnostic import het_breuschpagan\n",
        "from statsmodels.stats.stattools import durbin_watson\n",
        "import plotly.express as px\n",
        "import plotly.graph_objects as go\n",
        "from plotly.subplots import make_subplots\n",
        "warnings.filterwarnings('ignore')\n",
        "plt.style.use('seaborn-v0_8')\n",
        "np.random.seed(42)"
      ]
    },
    {
      "cell_type": "markdown",
      "source": [
        "# Data Loading and Initial Exploration"
      ],
      "metadata": {
        "id": "tdZMwbYJqsky"
      }
    },
    {
      "cell_type": "code",
      "source": [
        "url = \"/content/Athletes.csv\"\n",
        "df = pd.read_csv(url)\n",
        "\n",
        "print(f\"Dataset shape: {df.shape}\")\n",
        "print(f\"Memory usage: {df.memory_usage(deep=True).sum() / 1024**2:.2f} MB\")\n",
        "print(\"\\nColumn types:\")\n",
        "print(df.dtypes)\n",
        "print(\"\\nMissing values:\")\n",
        "print(df.isnull().sum())\n",
        "print(\"\\nBasic statistics:\")\n",
        "print(df.describe())"
      ],
      "metadata": {
        "colab": {
          "base_uri": "https://localhost:8080/"
        },
        "id": "0UolFa-Uqsxh",
        "outputId": "6ed75b3d-1741-4b46-cc74-1d2f82caf468"
      },
      "execution_count": 3,
      "outputs": [
        {
          "output_type": "stream",
          "name": "stdout",
          "text": [
            "Dataset shape: (17220, 10)\n",
            "Memory usage: 3.04 MB\n",
            "\n",
            "Column types:\n",
            "Bib                 int64\n",
            "Zip                 int64\n",
            "Age                 int64\n",
            "Age Group          object\n",
            "Gender             object\n",
            "First Half          int64\n",
            "Second Half         int64\n",
            "Finish              int64\n",
            "Positive Split      int64\n",
            "Percent Change    float64\n",
            "dtype: object\n",
            "\n",
            "Missing values:\n",
            "Bib               0\n",
            "Zip               0\n",
            "Age               0\n",
            "Age Group         0\n",
            "Gender            0\n",
            "First Half        0\n",
            "Second Half       0\n",
            "Finish            0\n",
            "Positive Split    0\n",
            "Percent Change    0\n",
            "dtype: int64\n",
            "\n",
            "Basic statistics:\n",
            "                Bib           Zip           Age    First Half   Second Half  \\\n",
            "count  17220.000000  17220.000000  17220.000000  17220.000000  17220.000000   \n",
            "mean   15688.916783  38541.031127     42.217828   6526.240999   7587.674158   \n",
            "std     8827.226766  34262.257821     12.540766   1270.014789   1779.232288   \n",
            "min        9.000000    627.000000     18.000000   3795.000000   3961.000000   \n",
            "25%     7997.750000   3892.000000     32.000000   5575.000000   6266.000000   \n",
            "50%    15934.500000  29474.500000     42.000000   6284.000000   7210.000000   \n",
            "75%    23615.250000  75040.750000     51.000000   7242.250000   8701.000000   \n",
            "max    30691.000000  99835.000000     82.000000  12057.000000  17096.000000   \n",
            "\n",
            "             Finish  Positive Split  Percent Change  \n",
            "count  17220.000000    17220.000000    17220.000000  \n",
            "mean   14113.915157     1061.433159        0.159734  \n",
            "std     2960.045680      891.818242        0.130473  \n",
            "min     7793.000000    -3677.000000       -0.369473  \n",
            "25%    11923.750000      434.000000        0.071908  \n",
            "50%    13505.500000      867.500000        0.133935  \n",
            "75%    15973.000000     1466.000000        0.215936  \n",
            "max    25866.000000     9810.000000        1.541497  \n"
          ]
        }
      ]
    }
  ]
}